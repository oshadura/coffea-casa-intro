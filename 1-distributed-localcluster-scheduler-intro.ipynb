{
 "cells": [
  {
   "cell_type": "markdown",
   "id": "9d19f489-59e6-48c7-aade-25530dcf253c",
   "metadata": {},
   "source": [
    "# Dask clusters\n",
    "\n",
    "(the material is based on the notebook https://github.com/jrbourbeau/hacking-dask)\n",
    "\n",
    "This notebook covers Dask's distributed clusters in detail."
   ]
  },
  {
   "cell_type": "markdown",
   "id": "8f83226c-4fe2-4b51-853e-fed3d4be2d66",
   "metadata": {
    "tags": []
   },
   "source": [
    "## Cluster overview\n",
    "\n",
    "In this section we'll discuss:\n",
    "\n",
    "1. The different components which make up a Dask cluster\n",
    "2. Survey different ways to launch a cluster"
   ]
  },
  {
   "cell_type": "markdown",
   "id": "c45762cb-a5a2-4f7c-ae29-02f05c78ba89",
   "metadata": {},
   "source": [
    "<img src=\"img/dask-system.png\" width=\"600\">"
   ]
  },
  {
   "cell_type": "markdown",
   "id": "29d4f37d-9011-49d7-a897-ef592ca30cf2",
   "metadata": {},
   "source": [
    "## Dask configuration file"
   ]
  },
  {
   "cell_type": "markdown",
   "id": "acbfbeeb-a6e4-4b94-8cc4-57557c6815a0",
   "metadata": {},
   "source": [
    "Taking full advantage of Dask sometimes requires user configuration. This might be to control logging verbosity, specify cluster configuration, provide credentials for security, or any of several other options that arise in production.\n",
    "\n",
    "Configuration is specified in one of the following ways:\n",
    "\n",
    "* YAML files in ~/.config/dask/ or /etc/dask/ or $DASK_CONFIG\n",
    "\n",
    "* Environment variables like `DASK_DISTRIBUTED__SCHEDULER__WORK_STEALING=True`\n",
    "\n",
    "* Default settings within other Dask sub-libraries\n",
    "\n",
    "On coffea-casa facility we already preconfigured everything for you, so please change configurations wisely :)"
   ]
  },
  {
   "cell_type": "code",
   "execution_count": null,
   "id": "4b7e0d38-5533-4cef-b8ed-365f35e5526f",
   "metadata": {
    "tags": []
   },
   "outputs": [],
   "source": [
    "import dask"
   ]
  },
  {
   "cell_type": "code",
   "execution_count": null,
   "id": "d9c76ef6-9220-4e79-8561-7cb82d9ca64f",
   "metadata": {},
   "outputs": [],
   "source": [
    "dask.config.config"
   ]
  },
  {
   "cell_type": "code",
   "execution_count": null,
   "id": "2ecb142e-eb6d-428b-8dcb-581a246ce2bd",
   "metadata": {
    "tags": []
   },
   "outputs": [],
   "source": [
    "dask.config.get(\"distributed.comm.require-encryption\")"
   ]
  },
  {
   "cell_type": "code",
   "execution_count": null,
   "id": "3f19fb81-f3ee-469c-a0e5-20f2f874f94b",
   "metadata": {
    "tags": []
   },
   "outputs": [],
   "source": [
    "dask.config.set({'distributed.comm.require-encryption': False})"
   ]
  },
  {
   "cell_type": "code",
   "execution_count": null,
   "id": "dfa8f823-e3e7-4274-89ac-4504d124f9a5",
   "metadata": {
    "tags": []
   },
   "outputs": [],
   "source": [
    "dask.config.get(\"distributed.comm.require-encryption\")"
   ]
  },
  {
   "cell_type": "markdown",
   "id": "105546e3-d563-4419-9e88-2d240acf39b8",
   "metadata": {},
   "source": [
    "### Components of a cluster\n",
    "\n",
    "A Dask cluster is composed of three different types of objects:\n",
    "\n",
    "1. **Scheduler**: A single, centralized scheduler process which responds to requests for computations, maintains relavant state about tasks and worker, and sends tasks to workers to be computed.\n",
    "2. **Workers**: One or more worker processes which compute tasks and store/serve their results.\n",
    "3. **Clients**: One or more client objects which are the user-facing entry point to interact with the cluster.\n",
    "\n",
    "A couple of notes about workers:\n",
    "\n",
    "- Each worker runs in its own Python process. Each worker Python process has its own `concurrent.futures.ThreadPoolExecutor` which is uses to compute tasks in parallel.\n",
    "- There's actually a fourth cluster object which is often not discussed: the **Nanny**. By default Dask workers are launched and managed by a separate nanny process. This separate process allows workers to restart themselves if you want to use the `Client.restart` method, or to restart workers automatically if they get above a certain memory limit threshold."
   ]
  },
  {
   "cell_type": "markdown",
   "id": "9ae4544f-e5bd-485f-a7ed-57d1efe0eede",
   "metadata": {
    "tags": []
   },
   "source": [
    "<img src=\"img/dask-cluster.svg\" width=\"600\">"
   ]
  },
  {
   "cell_type": "markdown",
   "id": "7bbd19a5-7646-4c9e-a7fd-cd8d603d1615",
   "metadata": {
    "tags": []
   },
   "source": [
    "#### Related Documentation\n",
    "\n",
    "- [Cluster architecture](https://distributed.dask.org/en/latest/#architecture)\n",
    "- [Journey of a task](https://distributed.dask.org/en/latest/journey.html)\n",
    "\n",
    "## Deploying Dask clusters\n",
    "\n",
    "Deploying a Dask cluster means launching scheduler, worker, and client processes and setting up the appropriate network connections so these processes can communicate with one another. Dask clusters can be lauched in a few different ways which we will discuss later.\n",
    "\n"
   ]
  },
  {
   "cell_type": "markdown",
   "id": "fd586767-878a-4442-ac67-dc8d80cbd987",
   "metadata": {
    "tags": []
   },
   "source": [
    "## Cluster managers "
   ]
  },
  {
   "cell_type": "markdown",
   "id": "ec8031ac-58a0-40bb-a0b1-07847d54b964",
   "metadata": {},
   "source": [
    "Dask has the notion of cluster manager objects. Cluster managers offer a consistent interface for common activities like adding/removing workers to a cluster, retrieving logs, etc."
   ]
  },
  {
   "cell_type": "markdown",
   "id": "b1b97702-f747-4c5b-9404-364ec817ab82",
   "metadata": {},
   "source": [
    "<img src=\"img/dask-cluster-manager.svg\" width=\"600\">"
   ]
  },
  {
   "cell_type": "markdown",
   "id": "7fa319cc-1221-4271-b05f-c5b110ed93b0",
   "metadata": {
    "tags": []
   },
   "source": [
    "### Dask LocalCluster cluster manager\n",
    "\n",
    "LocalCluster creates a \"cluster\" of a scheduler and workers running on the local machine.\n",
    "\n",
    "Creating a cluster object will create a Dask scheduler and a number of Dask workers. If no arguments are specified then it will autodetect the number of CPU cores your system has and the amount of memory and create workers to appropriately fill that. You can also specify these arguments yourself."
   ]
  },
  {
   "cell_type": "code",
   "execution_count": null,
   "id": "a77fbd0f-720a-48e2-aa07-fd9d9a01f381",
   "metadata": {
    "tags": []
   },
   "outputs": [],
   "source": [
    "from dask.distributed import LocalCluster\n",
    "from distributed import Client\n",
    "\n",
    "with LocalCluster(n_workers=2,\n",
    "        threads_per_worker=1,\n",
    "        memory_limit='1GB',\n",
    ") as cluster, Client(cluster) as client:\n",
    "    # Do something using 'client'\n",
    "    client.get_worker_logs()"
   ]
  },
  {
   "cell_type": "code",
   "execution_count": null,
   "id": "9007fd00-c304-4689-b10d-d83e33b8e380",
   "metadata": {
    "tags": []
   },
   "outputs": [],
   "source": [
    "LocalCluster??"
   ]
  },
  {
   "cell_type": "markdown",
   "id": "63b42dca-8d5c-48f1-8e55-ee9d8925d932",
   "metadata": {},
   "source": [
    "You can create a dask.distributed scheduler by importing and creating a Client with no arguments. This overrides whatever default was previously set."
   ]
  },
  {
   "cell_type": "code",
   "execution_count": null,
   "id": "7deeed3e-37ce-4cad-a8fc-52ed35da162a",
   "metadata": {
    "tags": []
   },
   "outputs": [],
   "source": [
    "from dask.distributed import Client\n",
    "client = Client()"
   ]
  },
  {
   "cell_type": "code",
   "execution_count": null,
   "id": "e350ead3-229a-4974-bd89-7174d99edbef",
   "metadata": {
    "tags": []
   },
   "outputs": [],
   "source": [
    "client.close()"
   ]
  },
  {
   "cell_type": "markdown",
   "id": "d9790fcf-f643-45f0-9997-b954103c47c3",
   "metadata": {},
   "source": [
    "Dask works well at many scales ranging from a single machine to clusters of many machines. In our case we provide each user already preconfigured resource ready to be scale."
   ]
  },
  {
   "cell_type": "markdown",
   "id": "e99e7197-3380-495b-9852-208956577a72",
   "metadata": {
    "tags": []
   },
   "source": [
    "### Dask-jobqueue library\n",
    "\n",
    "The Dask-jobqueue project makes it easy to deploy Dask on common job queuing systems typically found in high performance supercomputers, academic research institutions, and other clusters. It provides a convenient interface that is accessible from interactive systems like Jupyter notebooks, or batch jobs.\n",
    "\n",
    "Launching clusters will follows a similar pattern as using Dask's built-in `LocalCluster`:\n",
    "\n",
    "```python\n",
    "\n",
    "# Launch a Dask cluster on a HTCondor job queueing system [For this you will need HTCondor related configurations]\n",
    "from dask_jobqueue import HTCondorCluster\n",
    "cluster = HTCondorCluster(...)\n",
    "\n",
    "\n",
    "# Launch a Dask cluster on a SLURM job queueing system [For this you will need SLURM related configurations]\n",
    "from dask_jobqueue import SLURMCluster\n",
    "cluster = SLURMCluster(...)\n",
    "\n",
    "\n",
    "# Launch a Dask cluster on a PBS job queueing system [For this you will need PBS related configurations]\n",
    "from dask_jobqueue import PBSCluster\n",
    "cluster = PBSCluster(...)\n",
    "\n",
    "\n",
    "# Launch a Dask cluster on a Kubernetes cluster [For this you will need Kubernetes related configurations]\n",
    "from dask_kubernetes import KubeCluster\n",
    "cluster = KubeCluster(...)\n",
    "\n",
    "```"
   ]
  },
  {
   "cell_type": "markdown",
   "id": "d57b10a4-176d-4f9b-aa3e-a78be700582e",
   "metadata": {},
   "source": [
    "### CoffeaCasaCluster cluster manager\n",
    "\n",
    "The \"scale out\" process at Coffea-Casa Analysis Facility is accomplished by using custom dask-jobqueue class that helps easily deploy Dask worker over UNL Tier-2 HTCondor batch queue or Kubernetes cluster available at UNL."
   ]
  },
  {
   "cell_type": "markdown",
   "id": "fa9214b7-c8d1-4e04-a227-c7fbea2e4668",
   "metadata": {},
   "source": [
    "The dask Client is the primary entry point for users of `dask.distributed`.\n",
    "\n",
    "We pre-configured a Dask cluster for you automatically, and you just need to initialize a Client by pointing it to the address of a Scheduler (in coffea-casa it is always `tls://localhost:8786`):"
   ]
  },
  {
   "cell_type": "code",
   "execution_count": 1,
   "id": "d15b72be-ff5d-4146-84d2-866350302928",
   "metadata": {
    "tags": []
   },
   "outputs": [
    {
     "name": "stderr",
     "output_type": "stream",
     "text": [
      "/usr/local/lib/python3.10/site-packages/pandas/core/computation/expressions.py:21: UserWarning: Pandas requires version '2.8.4' or newer of 'numexpr' (version '2.7.3' currently installed).\n",
      "  from pandas.core.computation.check import NUMEXPR_INSTALLED\n"
     ]
    },
    {
     "data": {
      "text/html": [
       "<div>\n",
       "    <div style=\"width: 24px; height: 24px; background-color: #e1e1e1; border: 3px solid #9D9D9D; border-radius: 5px; position: absolute;\"> </div>\n",
       "    <div style=\"margin-left: 48px;\">\n",
       "        <h3 style=\"margin-bottom: 0px;\">Client</h3>\n",
       "        <p style=\"color: #9D9D9D; margin-bottom: 0px;\">Client-922cb955-4491-11ef-80d1-8e5891f19bfb</p>\n",
       "        <table style=\"width: 100%; text-align: left;\">\n",
       "\n",
       "        <tr>\n",
       "        \n",
       "            <td style=\"text-align: left;\"><strong>Connection method:</strong> Direct</td>\n",
       "            <td style=\"text-align: left;\"></td>\n",
       "        \n",
       "        </tr>\n",
       "\n",
       "        \n",
       "            <tr>\n",
       "                <td style=\"text-align: left;\">\n",
       "                    <strong>Dashboard: </strong> <a href=\"/user/oksana.shadura@cern.ch/proxy/8787/status\" target=\"_blank\">/user/oksana.shadura@cern.ch/proxy/8787/status</a>\n",
       "                </td>\n",
       "                <td style=\"text-align: left;\"></td>\n",
       "            </tr>\n",
       "        \n",
       "\n",
       "        </table>\n",
       "\n",
       "        \n",
       "            <button style=\"margin-bottom: 12px;\" data-commandlinker-command=\"dask:populate-and-launch-layout\" data-commandlinker-args='{\"url\": \"/user/oksana.shadura@cern.ch/proxy/8787/status\" }'>\n",
       "                Launch dashboard in JupyterLab\n",
       "            </button>\n",
       "        \n",
       "\n",
       "        \n",
       "            <details>\n",
       "            <summary style=\"margin-bottom: 20px;\"><h3 style=\"display: inline;\">Scheduler Info</h3></summary>\n",
       "            <div style=\"\">\n",
       "    <div>\n",
       "        <div style=\"width: 24px; height: 24px; background-color: #FFF7E5; border: 3px solid #FF6132; border-radius: 5px; position: absolute;\"> </div>\n",
       "        <div style=\"margin-left: 48px;\">\n",
       "            <h3 style=\"margin-bottom: 0px;\">Scheduler</h3>\n",
       "            <p style=\"color: #9D9D9D; margin-bottom: 0px;\">Scheduler-5e89fe8f-e99a-4464-86f6-e6c4eb30d109</p>\n",
       "            <table style=\"width: 100%; text-align: left;\">\n",
       "                <tr>\n",
       "                    <td style=\"text-align: left;\">\n",
       "                        <strong>Comm:</strong> tls://192.168.121.74:8786\n",
       "                    </td>\n",
       "                    <td style=\"text-align: left;\">\n",
       "                        <strong>Workers:</strong> 0\n",
       "                    </td>\n",
       "                </tr>\n",
       "                <tr>\n",
       "                    <td style=\"text-align: left;\">\n",
       "                        <strong>Dashboard:</strong> <a href=\"/user/oksana.shadura@cern.ch/proxy/8787/status\" target=\"_blank\">/user/oksana.shadura@cern.ch/proxy/8787/status</a>\n",
       "                    </td>\n",
       "                    <td style=\"text-align: left;\">\n",
       "                        <strong>Total threads:</strong> 0\n",
       "                    </td>\n",
       "                </tr>\n",
       "                <tr>\n",
       "                    <td style=\"text-align: left;\">\n",
       "                        <strong>Started:</strong> 12 minutes ago\n",
       "                    </td>\n",
       "                    <td style=\"text-align: left;\">\n",
       "                        <strong>Total memory:</strong> 0 B\n",
       "                    </td>\n",
       "                </tr>\n",
       "            </table>\n",
       "        </div>\n",
       "    </div>\n",
       "\n",
       "    <details style=\"margin-left: 48px;\">\n",
       "        <summary style=\"margin-bottom: 20px;\">\n",
       "            <h3 style=\"display: inline;\">Workers</h3>\n",
       "        </summary>\n",
       "\n",
       "        \n",
       "\n",
       "    </details>\n",
       "</div>\n",
       "            </details>\n",
       "        \n",
       "\n",
       "    </div>\n",
       "</div>"
      ],
      "text/plain": [
       "<Client: 'tls://192.168.121.74:8786' processes=0 threads=0, memory=0 B>"
      ]
     },
     "execution_count": 1,
     "metadata": {},
     "output_type": "execute_result"
    }
   ],
   "source": [
    "from dask.distributed import Client\n",
    "\n",
    "client = Client(\"tls://localhost:8786\")\n",
    "client"
   ]
  }
 ],
 "metadata": {
  "kernelspec": {
   "display_name": "Python 3 (ipykernel)",
   "language": "python",
   "name": "python3"
  },
  "language_info": {
   "codemirror_mode": {
    "name": "ipython",
    "version": 3
   },
   "file_extension": ".py",
   "mimetype": "text/x-python",
   "name": "python",
   "nbconvert_exporter": "python",
   "pygments_lexer": "ipython3",
   "version": "3.10.12"
  }
 },
 "nbformat": 4,
 "nbformat_minor": 5
}
