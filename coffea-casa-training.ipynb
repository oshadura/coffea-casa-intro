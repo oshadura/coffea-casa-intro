{
 "cells": [
  {
   "cell_type": "markdown",
   "id": "68b1de0b-a51f-4a4d-a275-10c1c2730cf8",
   "metadata": {
    "tags": []
   },
   "source": [
    "# Distributed Dask tips for coffea-casa"
   ]
  },
  {
   "cell_type": "markdown",
   "id": "8ae8dc4d-c4b2-4d37-adcf-a56d47cc7678",
   "metadata": {},
   "source": [
    "Dask works well at many scales ranging from a single machine to clusters of many machines. In our case we provide each user already preconfigured resource ready to be scale."
   ]
  },
  {
   "cell_type": "markdown",
   "id": "e9f0ab6d-0c21-4f2e-99ff-0427028cb5ab",
   "metadata": {
    "tags": []
   },
   "source": [
    "![dask distributed](https://docs.dask.org/en/latest/_images/dask-cluster-manager.svg)"
   ]
  },
  {
   "cell_type": "markdown",
   "id": "bb6bf410-cbd7-4fe1-8877-7a94e5cb9b07",
   "metadata": {},
   "source": [
    "The dask Client is the primary entry point for users of `dask.distributed`.\n",
    "\n",
    "We pre-configured a Dask cluster for you automatically, and you just need to initialize a Client by pointing it to the address of a Scheduler (in coffea-casa it is always `tls://localhost:8786`):"
   ]
  },
  {
   "cell_type": "code",
   "execution_count": 20,
   "id": "04375289-85fa-4758-833b-1643e61e0267",
   "metadata": {
    "tags": []
   },
   "outputs": [
    {
     "data": {
      "text/html": [
       "<div>\n",
       "    <div style=\"width: 24px; height: 24px; background-color: #e1e1e1; border: 3px solid #9D9D9D; border-radius: 5px; position: absolute;\"> </div>\n",
       "    <div style=\"margin-left: 48px;\">\n",
       "        <h3 style=\"margin-bottom: 0px;\">Client</h3>\n",
       "        <p style=\"color: #9D9D9D; margin-bottom: 0px;\">Client-152486e3-2e3d-11ef-88a9-1a509e306861</p>\n",
       "        <table style=\"width: 100%; text-align: left;\">\n",
       "\n",
       "        <tr>\n",
       "        \n",
       "            <td style=\"text-align: left;\"><strong>Connection method:</strong> Direct</td>\n",
       "            <td style=\"text-align: left;\"></td>\n",
       "        \n",
       "        </tr>\n",
       "\n",
       "        \n",
       "            <tr>\n",
       "                <td style=\"text-align: left;\">\n",
       "                    <strong>Dashboard: </strong> <a href=\"/user/oksana.shadura@cern.ch/proxy/8787/status\" target=\"_blank\">/user/oksana.shadura@cern.ch/proxy/8787/status</a>\n",
       "                </td>\n",
       "                <td style=\"text-align: left;\"></td>\n",
       "            </tr>\n",
       "        \n",
       "\n",
       "        </table>\n",
       "\n",
       "        \n",
       "            <button style=\"margin-bottom: 12px;\" data-commandlinker-command=\"dask:populate-and-launch-layout\" data-commandlinker-args='{\"url\": \"/user/oksana.shadura@cern.ch/proxy/8787/status\" }'>\n",
       "                Launch dashboard in JupyterLab\n",
       "            </button>\n",
       "        \n",
       "\n",
       "        \n",
       "            <details>\n",
       "            <summary style=\"margin-bottom: 20px;\"><h3 style=\"display: inline;\">Scheduler Info</h3></summary>\n",
       "            <div style=\"\">\n",
       "    <div>\n",
       "        <div style=\"width: 24px; height: 24px; background-color: #FFF7E5; border: 3px solid #FF6132; border-radius: 5px; position: absolute;\"> </div>\n",
       "        <div style=\"margin-left: 48px;\">\n",
       "            <h3 style=\"margin-bottom: 0px;\">Scheduler</h3>\n",
       "            <p style=\"color: #9D9D9D; margin-bottom: 0px;\">Scheduler-caba97bb-4cb2-4da9-b772-d67eeba098ee</p>\n",
       "            <table style=\"width: 100%; text-align: left;\">\n",
       "                <tr>\n",
       "                    <td style=\"text-align: left;\">\n",
       "                        <strong>Comm:</strong> tls://192.168.121.183:8786\n",
       "                    </td>\n",
       "                    <td style=\"text-align: left;\">\n",
       "                        <strong>Workers:</strong> 0\n",
       "                    </td>\n",
       "                </tr>\n",
       "                <tr>\n",
       "                    <td style=\"text-align: left;\">\n",
       "                        <strong>Dashboard:</strong> <a href=\"/user/oksana.shadura@cern.ch/proxy/8787/status\" target=\"_blank\">/user/oksana.shadura@cern.ch/proxy/8787/status</a>\n",
       "                    </td>\n",
       "                    <td style=\"text-align: left;\">\n",
       "                        <strong>Total threads:</strong> 0\n",
       "                    </td>\n",
       "                </tr>\n",
       "                <tr>\n",
       "                    <td style=\"text-align: left;\">\n",
       "                        <strong>Started:</strong> Just now\n",
       "                    </td>\n",
       "                    <td style=\"text-align: left;\">\n",
       "                        <strong>Total memory:</strong> 0 B\n",
       "                    </td>\n",
       "                </tr>\n",
       "            </table>\n",
       "        </div>\n",
       "    </div>\n",
       "\n",
       "    <details style=\"margin-left: 48px;\">\n",
       "        <summary style=\"margin-bottom: 20px;\">\n",
       "            <h3 style=\"display: inline;\">Workers</h3>\n",
       "        </summary>\n",
       "\n",
       "        \n",
       "\n",
       "    </details>\n",
       "</div>\n",
       "            </details>\n",
       "        \n",
       "\n",
       "    </div>\n",
       "</div>"
      ],
      "text/plain": [
       "<Client: 'tls://192.168.121.183:8786' processes=0 threads=0, memory=0 B>"
      ]
     },
     "execution_count": 20,
     "metadata": {},
     "output_type": "execute_result"
    }
   ],
   "source": [
    "from dask.distributed import Client\n",
    "\n",
    "client = Client(\"tls://localhost:8786\")\n",
    "client"
   ]
  },
  {
   "cell_type": "markdown",
   "id": "5b079b85-ecad-467d-962c-496ec298c19e",
   "metadata": {},
   "source": [
    "At coffea-casa we are using adaptive scaling to optimise resource usage."
   ]
  },
  {
   "cell_type": "markdown",
   "id": "1abef2b1-faff-4681-bc33-48d214ff3407",
   "metadata": {
    "tags": []
   },
   "source": [
    "## Dask dependency management plugins"
   ]
  },
  {
   "cell_type": "markdown",
   "id": "29c423ec-a553-4616-ad27-e9f8bb09745a",
   "metadata": {
    "tags": []
   },
   "source": [
    "Dask’s plugin system enables you to run custom Python code for certain events. You can use plugins that are specific to schedulers, workers, or nannies. A worker plugin, for example, allows you to run custom Python code on all your workers at certain event in the worker’s lifecycle (e.g. when the worker process is started). Let's check dependency management plugins allowing you to install packages on workers:"
   ]
  },
  {
   "cell_type": "code",
   "execution_count": 12,
   "id": "be81c765-26b4-47d1-b925-ee2b8c49881b",
   "metadata": {
    "tags": []
   },
   "outputs": [],
   "source": [
    "from dask.distributed import PipInstall\n",
    "\n",
    "plugin = PipInstall(packages=[\"hepconvert\"], pip_options=[\"--upgrade\"])\n",
    "\n",
    "client.register_plugin(plugin)"
   ]
  },
  {
   "cell_type": "code",
   "execution_count": 13,
   "id": "e91c8541-ff19-42d7-9859-cd207ef4ddf2",
   "metadata": {
    "tags": []
   },
   "outputs": [],
   "source": [
    "from dask.distributed import CondaInstall\n",
    "\n",
    "plugin = CondaInstall(packages=[\"pyhepmc\"])\n",
    "client.register_plugin(plugin)"
   ]
  },
  {
   "cell_type": "markdown",
   "id": "fbd96ea2-a96a-45b7-83b1-1e328c25ad99",
   "metadata": {},
   "source": [
    "Or we can simply execute custom function on worker:"
   ]
  },
  {
   "cell_type": "code",
   "execution_count": 46,
   "id": "e290a25a-91e3-4907-a228-62db74c0fc1c",
   "metadata": {},
   "outputs": [],
   "source": [
    "def worker_setup(dask_worker):\n",
    "    import os\n",
    "    install_root_packages_cmd = \"mamba install -y -c conda-forge root\"\n",
    "    os.system(install_root_packages_cmd)"
   ]
  },
  {
   "cell_type": "code",
   "execution_count": 47,
   "id": "1efcd3ba-b6b2-47d5-bfb9-ec959d29b28d",
   "metadata": {},
   "outputs": [
    {
     "data": {
      "text/plain": [
       "{'tls://red-c7123.unl.edu:36519': {'status': 'OK'},\n",
       " 'tls://red-c7123.unl.edu:41071': {'status': 'OK'},\n",
       " 'tls://red-c7123.unl.edu:42915': {'status': 'OK'},\n",
       " 'tls://red-c7123.unl.edu:43757': {'status': 'OK'}}"
      ]
     },
     "execution_count": 47,
     "metadata": {},
     "output_type": "execute_result"
    }
   ],
   "source": [
    "client.register_worker_callbacks(worker_setup)"
   ]
  },
  {
   "cell_type": "markdown",
   "id": "ed7ccfbf-ca62-4fdd-96e8-68d17836ab50",
   "metadata": {},
   "source": [
    "Or to enable CMSSW environmnet:"
   ]
  },
  {
   "cell_type": "code",
   "execution_count": 38,
   "id": "4f5a57d7-3bce-4231-a669-2be9884d6c36",
   "metadata": {},
   "outputs": [],
   "source": [
    " def worker_cmssw_setup(dask_worker):\n",
    "    import os\n",
    "    install_cmssw_packages_cmd = \"source /cvmfs/cms.cern.ch/cmsset_default.sh; cd /cvmfs/cms.cern.ch/${SCRAM_ARCH}/cms/cmssw/CMSSW_12_6_5; cmsenv\"\n",
    "    os.system(install_cmssw_packages_cmd)"
   ]
  },
  {
   "cell_type": "code",
   "execution_count": 39,
   "id": "eba2a72c-f5b2-414a-b63d-6984cad6f9c6",
   "metadata": {},
   "outputs": [
    {
     "data": {
      "text/plain": [
       "{'tls://red-c7123.unl.edu:36519': {'status': 'OK'},\n",
       " 'tls://red-c7123.unl.edu:41071': {'status': 'OK'},\n",
       " 'tls://red-c7123.unl.edu:42915': {'status': 'OK'},\n",
       " 'tls://red-c7123.unl.edu:43757': {'status': 'OK'}}"
      ]
     },
     "execution_count": 39,
     "metadata": {},
     "output_type": "execute_result"
    }
   ],
   "source": [
    "client.register_worker_callbacks(worker_cmssw_setup)"
   ]
  },
  {
   "cell_type": "markdown",
   "id": "3f8983ac-e534-4c8b-94f3-3b66c7a3c4af",
   "metadata": {
    "tags": []
   },
   "source": [
    "Or enable environment variable:"
   ]
  },
  {
   "cell_type": "code",
   "execution_count": 24,
   "id": "953d4301-2098-48f9-b9e8-e8b9c0f14aa9",
   "metadata": {
    "tags": []
   },
   "outputs": [],
   "source": [
    "def set_env(dask_worker):\n",
    "        import pathlib, os\n",
    "        path = str(pathlib.Path(dask_worker.local_directory))\n",
    "        os.environ[\"HOME_DIR\"] = path"
   ]
  },
  {
   "cell_type": "code",
   "execution_count": 25,
   "id": "6cd2ccbd-d6fd-4209-9952-c90e79832a6b",
   "metadata": {
    "tags": []
   },
   "outputs": [
    {
     "data": {
      "text/plain": [
       "{'tls://red-c7123.unl.edu:36519': {'status': 'OK'},\n",
       " 'tls://red-c7123.unl.edu:41071': {'status': 'OK'},\n",
       " 'tls://red-c7123.unl.edu:42915': {'status': 'OK'},\n",
       " 'tls://red-c7123.unl.edu:43757': {'status': 'OK'}}"
      ]
     },
     "execution_count": 25,
     "metadata": {},
     "output_type": "execute_result"
    }
   ],
   "source": [
    "client.register_worker_callbacks(set_env)"
   ]
  },
  {
   "cell_type": "code",
   "execution_count": 29,
   "id": "406474bc-5e30-4402-831c-ae736ba2ba02",
   "metadata": {
    "tags": []
   },
   "outputs": [
    {
     "data": {
      "text/plain": [
       "{'tls://red-c7123.unl.edu:36519': '/var/lib/condor/execute/dir_3977614/dask-scratch-space/worker-n7lkp1vq',\n",
       " 'tls://red-c7123.unl.edu:41071': '/var/lib/condor/execute/dir_3977616/dask-scratch-space/worker-w99g3haf',\n",
       " 'tls://red-c7123.unl.edu:42915': '/var/lib/condor/execute/dir_3977612/dask-scratch-space/worker-3y8tmbol',\n",
       " 'tls://red-c7123.unl.edu:43757': '/var/lib/condor/execute/dir_3977611/dask-scratch-space/worker-zyiqagh8'}"
      ]
     },
     "execution_count": 29,
     "metadata": {},
     "output_type": "execute_result"
    }
   ],
   "source": [
    "client.run(lambda: os.environ[\"HOME_DIR\"])"
   ]
  },
  {
   "cell_type": "markdown",
   "id": "874ce5be-4b56-432a-9886-1900d39ba1aa",
   "metadata": {},
   "source": [
    "You can simply create your plugins:"
   ]
  },
  {
   "cell_type": "code",
   "execution_count": 25,
   "id": "9ffe7e2a-e4bf-4a35-9b29-f4bb9ff77c99",
   "metadata": {
    "tags": []
   },
   "outputs": [],
   "source": [
    "from dask.distributed import WorkerPlugin\n",
    "class ErrorLogger(WorkerPlugin):\n",
    "    def __init__(self, logger):\n",
    "        self.logger = logger\n",
    "\n",
    "    def setup(self, worker):\n",
    "        self.worker = worker\n",
    "\n",
    "    def transition(self, key, start, finish, *args, **kwargs):\n",
    "        if finish == 'error':\n",
    "            ts = self.worker.tasks[key]\n",
    "            exc_info = (type(ts.exception), ts.exception, ts.traceback)\n",
    "            self.logger.error(\n",
    "                \"Error during computation of '%s'.\", key,\n",
    "                exc_info=exc_info\n",
    "            )"
   ]
  },
  {
   "cell_type": "code",
   "execution_count": 26,
   "id": "f1f49868-26f0-45a0-a7f6-7a0651e23aa1",
   "metadata": {
    "tags": []
   },
   "outputs": [
    {
     "data": {
      "text/plain": [
       "{'tls://red-c7123.unl.edu:35675': {'status': 'OK'},\n",
       " 'tls://red-c7123.unl.edu:37019': {'status': 'OK'}}"
      ]
     },
     "execution_count": 26,
     "metadata": {},
     "output_type": "execute_result"
    }
   ],
   "source": [
    "import logging\n",
    "plugin = ErrorLogger(logging)\n",
    "client.register_plugin(plugin) "
   ]
  },
  {
   "cell_type": "markdown",
   "id": "63f8bb73-75d4-4cc5-8569-5321e8f8901a",
   "metadata": {},
   "source": [
    "Or you can upload your file using plugin `UploadFile` (`UploadDirectory` doesnt work for now on coffea-casa, we are fixing it):"
   ]
  },
  {
   "cell_type": "code",
   "execution_count": 46,
   "id": "78e7827c-c765-4ceb-8c5c-f5af470d0f11",
   "metadata": {
    "tags": []
   },
   "outputs": [
    {
     "data": {
      "text/plain": [
       "{'tls://red-c7123.unl.edu:35675': {'status': 'OK'},\n",
       " 'tls://red-c7123.unl.edu:37019': {'status': 'OK'}}"
      ]
     },
     "execution_count": 46,
     "metadata": {},
     "output_type": "execute_result"
    }
   ],
   "source": [
    "from distributed.diagnostics.plugin import UploadFile\n",
    "\n",
    "client.register_plugin(UploadFile(\"test_cc.py\"))  "
   ]
  },
  {
   "cell_type": "code",
   "execution_count": null,
   "id": "5865b669-0fc2-4cdd-a3dc-62fe83b00589",
   "metadata": {},
   "outputs": [],
   "source": []
  }
 ],
 "metadata": {
  "kernelspec": {
   "display_name": "Python 3 (ipykernel)",
   "language": "python",
   "name": "python3"
  },
  "language_info": {
   "codemirror_mode": {
    "name": "ipython",
    "version": 3
   },
   "file_extension": ".py",
   "mimetype": "text/x-python",
   "name": "python",
   "nbconvert_exporter": "python",
   "pygments_lexer": "ipython3",
   "version": "3.10.12"
  }
 },
 "nbformat": 4,
 "nbformat_minor": 5
}
