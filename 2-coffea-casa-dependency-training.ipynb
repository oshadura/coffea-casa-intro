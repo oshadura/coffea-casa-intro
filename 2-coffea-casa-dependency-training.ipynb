{
 "cells": [
  {
   "cell_type": "markdown",
   "id": "1abef2b1-faff-4681-bc33-48d214ff3407",
   "metadata": {
    "tags": []
   },
   "source": [
    "## Dask dependency management plugins"
   ]
  },
  {
   "cell_type": "markdown",
   "id": "29c423ec-a553-4616-ad27-e9f8bb09745a",
   "metadata": {
    "tags": []
   },
   "source": [
    "Dask’s plugin system enables you to run custom Python code for certain events. You can use plugins that are specific to schedulers, workers, or nannies. A worker plugin, for example, allows you to run custom Python code on all your workers at certain event in the worker’s lifecycle (e.g. when the worker process is started). Let's check dependency management plugins allowing you to install packages on workers:"
   ]
  },
  {
   "cell_type": "code",
   "execution_count": 4,
   "id": "b652d73f-de91-4099-9edf-382f0404c599",
   "metadata": {
    "tags": []
   },
   "outputs": [
    {
     "data": {
      "text/html": [
       "<div>\n",
       "    <div style=\"width: 24px; height: 24px; background-color: #e1e1e1; border: 3px solid #9D9D9D; border-radius: 5px; position: absolute;\"> </div>\n",
       "    <div style=\"margin-left: 48px;\">\n",
       "        <h3 style=\"margin-bottom: 0px;\">Client</h3>\n",
       "        <p style=\"color: #9D9D9D; margin-bottom: 0px;\">Client-455004ae-42ba-11ef-8109-823a3ff19a23</p>\n",
       "        <table style=\"width: 100%; text-align: left;\">\n",
       "\n",
       "        <tr>\n",
       "        \n",
       "            <td style=\"text-align: left;\"><strong>Connection method:</strong> Direct</td>\n",
       "            <td style=\"text-align: left;\"></td>\n",
       "        \n",
       "        </tr>\n",
       "\n",
       "        \n",
       "            <tr>\n",
       "                <td style=\"text-align: left;\">\n",
       "                    <strong>Dashboard: </strong> <a href=\"/user/oksana.shadura@cern.ch/proxy/35575/status\" target=\"_blank\">/user/oksana.shadura@cern.ch/proxy/35575/status</a>\n",
       "                </td>\n",
       "                <td style=\"text-align: left;\"></td>\n",
       "            </tr>\n",
       "        \n",
       "\n",
       "        </table>\n",
       "\n",
       "        \n",
       "            <button style=\"margin-bottom: 12px;\" data-commandlinker-command=\"dask:populate-and-launch-layout\" data-commandlinker-args='{\"url\": \"/user/oksana.shadura@cern.ch/proxy/35575/status\" }'>\n",
       "                Launch dashboard in JupyterLab\n",
       "            </button>\n",
       "        \n",
       "\n",
       "        \n",
       "            <details>\n",
       "            <summary style=\"margin-bottom: 20px;\"><h3 style=\"display: inline;\">Scheduler Info</h3></summary>\n",
       "            <div style=\"\">\n",
       "    <div>\n",
       "        <div style=\"width: 24px; height: 24px; background-color: #FFF7E5; border: 3px solid #FF6132; border-radius: 5px; position: absolute;\"> </div>\n",
       "        <div style=\"margin-left: 48px;\">\n",
       "            <h3 style=\"margin-bottom: 0px;\">Scheduler</h3>\n",
       "            <p style=\"color: #9D9D9D; margin-bottom: 0px;\">Scheduler-081cd808-415f-4f69-9703-64bc603ca892</p>\n",
       "            <table style=\"width: 100%; text-align: left;\">\n",
       "                <tr>\n",
       "                    <td style=\"text-align: left;\">\n",
       "                        <strong>Comm:</strong> tls://192.168.121.81:8786\n",
       "                    </td>\n",
       "                    <td style=\"text-align: left;\">\n",
       "                        <strong>Workers:</strong> 0\n",
       "                    </td>\n",
       "                </tr>\n",
       "                <tr>\n",
       "                    <td style=\"text-align: left;\">\n",
       "                        <strong>Dashboard:</strong> <a href=\"/user/oksana.shadura@cern.ch/proxy/35575/status\" target=\"_blank\">/user/oksana.shadura@cern.ch/proxy/35575/status</a>\n",
       "                    </td>\n",
       "                    <td style=\"text-align: left;\">\n",
       "                        <strong>Total threads:</strong> 0\n",
       "                    </td>\n",
       "                </tr>\n",
       "                <tr>\n",
       "                    <td style=\"text-align: left;\">\n",
       "                        <strong>Started:</strong> 16 minutes ago\n",
       "                    </td>\n",
       "                    <td style=\"text-align: left;\">\n",
       "                        <strong>Total memory:</strong> 0 B\n",
       "                    </td>\n",
       "                </tr>\n",
       "            </table>\n",
       "        </div>\n",
       "    </div>\n",
       "\n",
       "    <details style=\"margin-left: 48px;\">\n",
       "        <summary style=\"margin-bottom: 20px;\">\n",
       "            <h3 style=\"display: inline;\">Workers</h3>\n",
       "        </summary>\n",
       "\n",
       "        \n",
       "\n",
       "    </details>\n",
       "</div>\n",
       "            </details>\n",
       "        \n",
       "\n",
       "    </div>\n",
       "</div>"
      ],
      "text/plain": [
       "<Client: 'tls://192.168.121.81:8786' processes=0 threads=0, memory=0 B>"
      ]
     },
     "execution_count": 4,
     "metadata": {},
     "output_type": "execute_result"
    }
   ],
   "source": [
    "from dask.distributed import Client\n",
    "\n",
    "client = Client(\"tls://localhost:8786\")\n",
    "client"
   ]
  },
  {
   "cell_type": "code",
   "execution_count": 18,
   "id": "be81c765-26b4-47d1-b925-ee2b8c49881b",
   "metadata": {
    "tags": []
   },
   "outputs": [],
   "source": [
    "from dask.distributed import PipInstall\n",
    "\n",
    "plugin = PipInstall(packages=[\"hepconvert\"], pip_options=[\"--upgrade\"])\n",
    "\n",
    "client.register_plugin(plugin)"
   ]
  },
  {
   "cell_type": "markdown",
   "id": "fbd96ea2-a96a-45b7-83b1-1e328c25ad99",
   "metadata": {},
   "source": [
    "Or we can simply execute custom function on worker:"
   ]
  },
  {
   "cell_type": "code",
   "execution_count": 6,
   "id": "e290a25a-91e3-4907-a228-62db74c0fc1c",
   "metadata": {},
   "outputs": [],
   "source": [
    "def worker_setup(dask_worker):\n",
    "    import os\n",
    "    #install_root_packages_cmd = \"mamba install -y -c conda-forge root\"\n",
    "    install_root_packages_cmd = \"mamba install -y -c conda-forge correctionlib\"\n",
    "    os.system(install_root_packages_cmd)"
   ]
  },
  {
   "cell_type": "code",
   "execution_count": 7,
   "id": "1efcd3ba-b6b2-47d5-bfb9-ec959d29b28d",
   "metadata": {},
   "outputs": [
    {
     "data": {
      "text/plain": [
       "{}"
      ]
     },
     "execution_count": 7,
     "metadata": {},
     "output_type": "execute_result"
    }
   ],
   "source": [
    "client.register_worker_callbacks(worker_setup)"
   ]
  },
  {
   "cell_type": "markdown",
   "id": "ed7ccfbf-ca62-4fdd-96e8-68d17836ab50",
   "metadata": {},
   "source": [
    "Or to enable CMSSW environmnet:"
   ]
  },
  {
   "cell_type": "code",
   "execution_count": 8,
   "id": "4f5a57d7-3bce-4231-a669-2be9884d6c36",
   "metadata": {},
   "outputs": [],
   "source": [
    " def worker_cmssw_setup(dask_worker):\n",
    "    import os\n",
    "    install_cmssw_packages_cmd = \"source /cvmfs/cms.cern.ch/cmsset_default.sh; cd /cvmfs/cms.cern.ch/${SCRAM_ARCH}/cms/cmssw/CMSSW_12_6_5; cmsenv\"\n",
    "    os.system(install_cmssw_packages_cmd)"
   ]
  },
  {
   "cell_type": "code",
   "execution_count": 9,
   "id": "eba2a72c-f5b2-414a-b63d-6984cad6f9c6",
   "metadata": {},
   "outputs": [
    {
     "data": {
      "text/plain": [
       "{}"
      ]
     },
     "execution_count": 9,
     "metadata": {},
     "output_type": "execute_result"
    }
   ],
   "source": [
    "client.register_worker_callbacks(worker_cmssw_setup)"
   ]
  },
  {
   "cell_type": "markdown",
   "id": "3f8983ac-e534-4c8b-94f3-3b66c7a3c4af",
   "metadata": {
    "tags": []
   },
   "source": [
    "Or enable environment variable:"
   ]
  },
  {
   "cell_type": "code",
   "execution_count": 10,
   "id": "953d4301-2098-48f9-b9e8-e8b9c0f14aa9",
   "metadata": {
    "tags": []
   },
   "outputs": [],
   "source": [
    "def set_env(dask_worker):\n",
    "        import pathlib, os\n",
    "        path = str(pathlib.Path(dask_worker.local_directory))\n",
    "        os.environ[\"HOME_DIR\"] = path"
   ]
  },
  {
   "cell_type": "code",
   "execution_count": 11,
   "id": "6cd2ccbd-d6fd-4209-9952-c90e79832a6b",
   "metadata": {
    "tags": []
   },
   "outputs": [
    {
     "data": {
      "text/plain": [
       "{}"
      ]
     },
     "execution_count": 11,
     "metadata": {},
     "output_type": "execute_result"
    }
   ],
   "source": [
    "client.register_worker_callbacks(set_env)"
   ]
  },
  {
   "cell_type": "markdown",
   "id": "874ce5be-4b56-432a-9886-1900d39ba1aa",
   "metadata": {},
   "source": [
    "You can simply create your plugins:"
   ]
  },
  {
   "cell_type": "code",
   "execution_count": 12,
   "id": "9ffe7e2a-e4bf-4a35-9b29-f4bb9ff77c99",
   "metadata": {
    "tags": []
   },
   "outputs": [],
   "source": [
    "from dask.distributed import WorkerPlugin\n",
    "class ErrorLogger(WorkerPlugin):\n",
    "    def __init__(self, logger):\n",
    "        self.logger = logger\n",
    "\n",
    "    def setup(self, worker):\n",
    "        self.worker = worker\n",
    "\n",
    "    def transition(self, key, start, finish, *args, **kwargs):\n",
    "        if finish == 'error':\n",
    "            ts = self.worker.tasks[key]\n",
    "            exc_info = (type(ts.exception), ts.exception, ts.traceback)\n",
    "            self.logger.error(\n",
    "                \"Error during computation of '%s'.\", key,\n",
    "                exc_info=exc_info\n",
    "            )"
   ]
  },
  {
   "cell_type": "code",
   "execution_count": 13,
   "id": "f1f49868-26f0-45a0-a7f6-7a0651e23aa1",
   "metadata": {
    "tags": []
   },
   "outputs": [
    {
     "data": {
      "text/plain": [
       "{}"
      ]
     },
     "execution_count": 13,
     "metadata": {},
     "output_type": "execute_result"
    }
   ],
   "source": [
    "import logging\n",
    "plugin = ErrorLogger(logging)\n",
    "client.register_plugin(plugin) "
   ]
  },
  {
   "cell_type": "markdown",
   "id": "63f8bb73-75d4-4cc5-8569-5321e8f8901a",
   "metadata": {},
   "source": [
    "Or you can upload your file using plugin `UploadFile` (`UploadDirectory` doesnt work for now on coffea-casa, we are fixing it):"
   ]
  },
  {
   "cell_type": "code",
   "execution_count": 16,
   "id": "78e7827c-c765-4ceb-8c5c-f5af470d0f11",
   "metadata": {
    "tags": []
   },
   "outputs": [
    {
     "data": {
      "text/plain": [
       "{}"
      ]
     },
     "execution_count": 16,
     "metadata": {},
     "output_type": "execute_result"
    }
   ],
   "source": [
    "from distributed.diagnostics.plugin import UploadFile\n",
    "\n",
    "client.register_plugin(UploadFile(\"upload_directory/bar.py\"))  "
   ]
  },
  {
   "cell_type": "code",
   "execution_count": null,
   "id": "5865b669-0fc2-4cdd-a3dc-62fe83b00589",
   "metadata": {},
   "outputs": [],
   "source": []
  }
 ],
 "metadata": {
  "kernelspec": {
   "display_name": "Python 3 (ipykernel)",
   "language": "python",
   "name": "python3"
  },
  "language_info": {
   "codemirror_mode": {
    "name": "ipython",
    "version": 3
   },
   "file_extension": ".py",
   "mimetype": "text/x-python",
   "name": "python",
   "nbconvert_exporter": "python",
   "pygments_lexer": "ipython3",
   "version": "3.10.12"
  }
 },
 "nbformat": 4,
 "nbformat_minor": 5
}
